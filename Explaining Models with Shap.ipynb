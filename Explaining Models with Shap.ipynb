{
 "cells": [
  {
   "cell_type": "code",
   "execution_count": 1,
   "id": "a144ffb8",
   "metadata": {},
   "outputs": [],
   "source": [
    "## Our standard import\n",
    "import warnings\n",
    "warnings.simplefilter(action='ignore', category=FutureWarning)\n",
    "import pandas as pd\n",
    "import numpy as np\n",
    "import matplotlib.pyplot as plt\n",
    "import seaborn as sns\n",
    "import os\n",
    "\n",
    "## Preprocessing tools\n",
    "from sklearn.model_selection import train_test_split\n",
    "from sklearn.compose import make_column_transformer, make_column_selector\n",
    "from sklearn.pipeline import make_pipeline\n",
    "from sklearn.preprocessing import OneHotEncoder, StandardScaler\n",
    "from sklearn.impute import SimpleImputer\n",
    "\n",
    "\n",
    "## Models & evaluation metrics\n",
    "from sklearn import metrics\n",
    "from sklearn.ensemble import RandomForestRegressor\n",
    "import joblib\n",
    "\n",
    "# ## setting random state for reproducibility\n",
    "SEED = 321\n",
    "np.random.seed(SEED)\n",
    "plt.style.use(('ggplot','tableau-colorblind10'))"
   ]
  },
  {
   "cell_type": "code",
   "execution_count": 2,
   "id": "ccd05cc4",
   "metadata": {},
   "outputs": [
    {
     "ename": "FileNotFoundError",
     "evalue": "[Errno 2] No such file or directory: 'Data/best-models.joblib'",
     "output_type": "error",
     "traceback": [
      "\u001b[1;31m---------------------------------------------------------------------------\u001b[0m",
      "\u001b[1;31mFileNotFoundError\u001b[0m                         Traceback (most recent call last)",
      "Cell \u001b[1;32mIn [2], line 2\u001b[0m\n\u001b[0;32m      1\u001b[0m \u001b[38;5;28;01mimport\u001b[39;00m \u001b[38;5;21;01mjoblib\u001b[39;00m\n\u001b[1;32m----> 2\u001b[0m loaded_joblib \u001b[38;5;241m=\u001b[39m \u001b[43mjoblib\u001b[49m\u001b[38;5;241;43m.\u001b[39;49m\u001b[43mload\u001b[49m\u001b[43m(\u001b[49m\u001b[38;5;124;43m'\u001b[39;49m\u001b[38;5;124;43mData/best-models.joblib\u001b[39;49m\u001b[38;5;124;43m'\u001b[39;49m\u001b[43m)\u001b[49m\n\u001b[0;32m      3\u001b[0m loaded_joblib\u001b[38;5;241m.\u001b[39mkeys()\n",
      "File \u001b[1;32m~\\anaconda3\\envs\\dojo-env\\lib\\site-packages\\joblib\\numpy_pickle.py:579\u001b[0m, in \u001b[0;36mload\u001b[1;34m(filename, mmap_mode)\u001b[0m\n\u001b[0;32m    577\u001b[0m         obj \u001b[38;5;241m=\u001b[39m _unpickle(fobj)\n\u001b[0;32m    578\u001b[0m \u001b[38;5;28;01melse\u001b[39;00m:\n\u001b[1;32m--> 579\u001b[0m     \u001b[38;5;28;01mwith\u001b[39;00m \u001b[38;5;28;43mopen\u001b[39;49m\u001b[43m(\u001b[49m\u001b[43mfilename\u001b[49m\u001b[43m,\u001b[49m\u001b[43m \u001b[49m\u001b[38;5;124;43m'\u001b[39;49m\u001b[38;5;124;43mrb\u001b[39;49m\u001b[38;5;124;43m'\u001b[39;49m\u001b[43m)\u001b[49m \u001b[38;5;28;01mas\u001b[39;00m f:\n\u001b[0;32m    580\u001b[0m         \u001b[38;5;28;01mwith\u001b[39;00m _read_fileobject(f, filename, mmap_mode) \u001b[38;5;28;01mas\u001b[39;00m fobj:\n\u001b[0;32m    581\u001b[0m             \u001b[38;5;28;01mif\u001b[39;00m \u001b[38;5;28misinstance\u001b[39m(fobj, \u001b[38;5;28mstr\u001b[39m):\n\u001b[0;32m    582\u001b[0m                 \u001b[38;5;66;03m# if the returned file object is a string, this means we\u001b[39;00m\n\u001b[0;32m    583\u001b[0m                 \u001b[38;5;66;03m# try to load a pickle file generated with an version of\u001b[39;00m\n\u001b[0;32m    584\u001b[0m                 \u001b[38;5;66;03m# Joblib so we load it with joblib compatibility function.\u001b[39;00m\n",
      "\u001b[1;31mFileNotFoundError\u001b[0m: [Errno 2] No such file or directory: 'Data/best-models.joblib'"
     ]
    }
   ],
   "source": [
    "import joblib\n",
    "loaded_joblib = joblib.load('Data/best-models.joblib')\n",
    "loaded_joblib.keys()"
   ]
  },
  {
   "cell_type": "code",
   "execution_count": null,
   "id": "01a9e847",
   "metadata": {},
   "outputs": [],
   "source": [
    "loaded_joblib = joblib.load('random_forest.joblib')\n",
    "loaded_joblib.keys()"
   ]
  },
  {
   "cell_type": "code",
   "execution_count": null,
   "id": "2cb36af5",
   "metadata": {},
   "outputs": [],
   "source": [
    "X_train_df = loaded_joblib['X_train']\n",
    "y_train = loaded_joblib['y_train']\n",
    "X_test_df = loaded_joblib['X_test']\n",
    "y_test = loaded_joblib['y_test']\n",
    "preprocessor = loaded_joblib['preprocessor']\n",
    "reg = loaded_joblib['RandomForestRegressor']"
   ]
  },
  {
   "cell_type": "markdown",
   "id": "797207d2",
   "metadata": {},
   "source": [
    "# Explain your tree-based model with shap:"
   ]
  },
  {
   "cell_type": "code",
   "execution_count": null,
   "id": "ff497ed4",
   "metadata": {},
   "outputs": [],
   "source": [
    "import shap\n",
    "shap.initjs()"
   ]
  },
  {
   "cell_type": "code",
   "execution_count": null,
   "id": "75d7f872",
   "metadata": {},
   "outputs": [],
   "source": [
    "len(X_train_df)"
   ]
  },
  {
   "cell_type": "code",
   "execution_count": null,
   "id": "aa9a8f3d",
   "metadata": {},
   "outputs": [],
   "source": [
    "X_shap = shap.sample(X_train_df,nsamples=400,random_state=321)\n",
    "X_shap.head()"
   ]
  },
  {
   "cell_type": "code",
   "execution_count": null,
   "id": "6308dccb",
   "metadata": {},
   "outputs": [],
   "source": [
    "## get the corresponding y-values\n",
    "y_shap = y_train.loc[X_shap.index]\n",
    "y_shap "
   ]
  },
  {
   "cell_type": "code",
   "execution_count": null,
   "id": "93c389fc",
   "metadata": {},
   "outputs": [],
   "source": [
    "explainer = shap.Explainer(reg)\n",
    "explainer"
   ]
  },
  {
   "cell_type": "code",
   "execution_count": null,
   "id": "dad1bd2f",
   "metadata": {},
   "outputs": [],
   "source": [
    "## Getting the shap values\n",
    "shap_values = explainer(X_shap,y_shap)\n",
    "type(shap_values)"
   ]
  },
  {
   "cell_type": "code",
   "execution_count": null,
   "id": "749a6728",
   "metadata": {},
   "outputs": [],
   "source": [
    "X_shap.shape"
   ]
  },
  {
   "cell_type": "markdown",
   "id": "49ddc6c1",
   "metadata": {},
   "source": [
    "They are not exactly the same, the first and the second are the same. In shap, the supermarket type 3 go up in to third place. The item visibility went down to the last. However, we have new feature - Establishment Year."
   ]
  },
  {
   "cell_type": "code",
   "execution_count": null,
   "id": "729b5497",
   "metadata": {},
   "outputs": [],
   "source": [
    "fig, ax = plt.subplots()\n",
    "shap.summary_plot(shap_values,features= X_shap, plot_type='bar')\n",
    "#saving the summary plot\n",
    "fig.savefig('Data/summary_plot_rf.png', bbox_inches=\"tight\")"
   ]
  },
  {
   "cell_type": "code",
   "execution_count": null,
   "id": "8b54a627",
   "metadata": {},
   "outputs": [],
   "source": [
    "fig, ax = plt.subplots()\n",
    "shap.summary_plot(shap_values, features = X_shap,plot_type='dot')\n",
    "#saving\n",
    "fig.savefig('Data/summary_plot_dot.png');"
   ]
  },
  {
   "cell_type": "markdown",
   "id": "b2e5d855",
   "metadata": {},
   "source": [
    "Top 3 most important features\n",
    "\n",
    "Item MRP:\n",
    "\n",
    "The Sales will be higher if the items prices are higher\n",
    "\n",
    "Outlet type Grocery Store\n",
    "it will affect sales.\n",
    "\n",
    "Outlet type Supermarket Type 3\n",
    "more supermarket type 3, it will increasing more sales."
   ]
  },
  {
   "cell_type": "markdown",
   "id": "77a6fc14",
   "metadata": {},
   "source": [
    "# Local Explanations"
   ]
  },
  {
   "cell_type": "code",
   "execution_count": null,
   "id": "c7aff83f",
   "metadata": {},
   "outputs": [],
   "source": [
    "X_shap_local = X_shap.reset_index(drop=True)\n",
    "y_shap_local = y_shap.reset_index(drop=True)\n",
    "X_shap_local.head()"
   ]
  },
  {
   "cell_type": "code",
   "execution_count": null,
   "id": "4b50713b",
   "metadata": {},
   "outputs": [],
   "source": [
    "sns.histplot(X_shap['Item_MRP']);"
   ]
  },
  {
   "cell_type": "code",
   "execution_count": null,
   "id": "afe9e783",
   "metadata": {},
   "outputs": [],
   "source": [
    "high_mrp = X_shap_local['Item_MRP'].idxmax()\n",
    "high_mrp"
   ]
  },
  {
   "cell_type": "code",
   "execution_count": null,
   "id": "e3f18721",
   "metadata": {},
   "outputs": [],
   "source": [
    "X_shap_local.iloc[high_mrp]"
   ]
  },
  {
   "cell_type": "code",
   "execution_count": null,
   "id": "46d38d9b",
   "metadata": {},
   "outputs": [],
   "source": [
    "y_shap_local.iloc[high_mrp]"
   ]
  },
  {
   "cell_type": "code",
   "execution_count": null,
   "id": "0b3188ac",
   "metadata": {},
   "outputs": [],
   "source": [
    "low_mrp = X_shap_local['Item_MRP'].idxmin()\n",
    "low_mrp"
   ]
  },
  {
   "cell_type": "code",
   "execution_count": null,
   "id": "bbb0438d",
   "metadata": {},
   "outputs": [],
   "source": [
    "X_shap_local.iloc[low_mrp]"
   ]
  },
  {
   "cell_type": "code",
   "execution_count": null,
   "id": "bc1975ab",
   "metadata": {},
   "outputs": [],
   "source": [
    "shap.force_plot(explainer.expected_value, \n",
    "                shap_values=shap_values[high_mrp].values,\n",
    "               features=X_shap_local.iloc[high_mrp],show=False,matplotlib=True)"
   ]
  },
  {
   "cell_type": "code",
   "execution_count": null,
   "id": "68fcc2d5",
   "metadata": {},
   "outputs": [],
   "source": [
    "shap.force_plot(explainer.expected_value, \n",
    "                shap_values=shap_values[low_mrp].values,\n",
    "               features=X_shap_local.iloc[low_mrp],show=False,matplotlib=True)"
   ]
  },
  {
   "cell_type": "code",
   "execution_count": null,
   "id": "a11ad38c",
   "metadata": {},
   "outputs": [],
   "source": [
    "# LimeTabularExplainer\n",
    "from lime.lime_tabular import LimeTabularExplainer\n",
    "lime_explainer =LimeTabularExplainer(\n",
    "    training_data=X_shap.values,\n",
    "    feature_names=X_shap.columns,\n",
    "    mode='regression')\n",
    "lime_explainer"
   ]
  },
  {
   "cell_type": "code",
   "execution_count": null,
   "id": "6a15e0ca",
   "metadata": {},
   "outputs": [],
   "source": [
    "## Use the lime explainer to explain the selected example used above \n",
    "\n",
    "exp = lime_explainer.explain_instance(X_shap_local.loc[high_mrp],\n",
    "                                      reg.predict)\n",
    "\n",
    "\n",
    "exp.show_in_notebook()"
   ]
  },
  {
   "cell_type": "code",
   "execution_count": null,
   "id": "2c78a8cf",
   "metadata": {},
   "outputs": [],
   "source": [
    "## Use the lime explainer to explain the selected example used above \n",
    "\n",
    "exp = lime_explainer.explain_instance(X_shap_local.loc[low_mrp],\n",
    "                                      reg.predict)\n",
    "\n",
    "\n",
    "exp.show_in_notebook()"
   ]
  }
 ],
 "metadata": {
  "kernelspec": {
   "display_name": "Python (dojo-env)",
   "language": "python",
   "name": "dojo-env"
  },
  "language_info": {
   "codemirror_mode": {
    "name": "ipython",
    "version": 3
   },
   "file_extension": ".py",
   "mimetype": "text/x-python",
   "name": "python",
   "nbconvert_exporter": "python",
   "pygments_lexer": "ipython3",
   "version": "3.9.15"
  },
  "toc": {
   "base_numbering": 1,
   "nav_menu": {},
   "number_sections": true,
   "sideBar": true,
   "skip_h1_title": false,
   "title_cell": "Table of Contents",
   "title_sidebar": "Contents",
   "toc_cell": false,
   "toc_position": {},
   "toc_section_display": true,
   "toc_window_display": false
  }
 },
 "nbformat": 4,
 "nbformat_minor": 5
}
